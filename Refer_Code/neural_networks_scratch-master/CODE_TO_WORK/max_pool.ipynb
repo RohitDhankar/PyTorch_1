{
 "cells": [
  {
   "cell_type": "code",
   "execution_count": 1,
   "metadata": {},
   "outputs": [],
   "source": [
    "import numpy as np"
   ]
  },
  {
   "cell_type": "code",
   "execution_count": 3,
   "metadata": {},
   "outputs": [],
   "source": [
    "class max_pool:\n",
    "    \n",
    "    def __init__(self,f,mode = \"max\",stride=1):\n",
    "        \n",
    "        self.mode = mode\n",
    "        self.stride = stride\n",
    "        self.f = f\n",
    "        \n",
    "    def Forward_pass(self,input_X):\n",
    "        \n",
    "        mode = self.mode\n",
    "        stride = self.stride\n",
    "        f = self.f\n",
    "        \n",
    "        (m,h,w,c) = input_X.shape                                 # size = ( m , h , w , c)\n",
    "        \n",
    "        o_h = int((h-f)/stride) + 1\n",
    "        o_w = int((w-f)/stride) + 1\n",
    "        \n",
    "        output_X = np.zeros((m,o_h,o_w,c))\n",
    "        \n",
    "        for i in range(m):\n",
    "            for height in range(o_h):\n",
    "                for width in range(o_w):\n",
    "                    for channel in range(c):\n",
    "                        \n",
    "                        img = input_X[i,(height*stride):(height*stride)+f,(width*stride):(width*stride)+f,channel]\n",
    "                        if mode == \"max\":\n",
    "                            output_X[i, height, width, channel] = np.max(img)\n",
    "                        elif mode == \"average\":\n",
    "                            output_X[i, height, width, channel] = np.mean(img)\n",
    "        \n",
    "        print(\"Input shape = {} Output shape = {}\".format(input_X.shape,output_X.shape))\n",
    "        return output_X\n",
    "    \n",
    "    def Backward_pass(self,input_X,dl_do):\n",
    "        \n",
    "        mode = self.mode\n",
    "        stride = self.stride\n",
    "        f = self.f\n",
    "        \n",
    "        (m,h,w,c) = input_X.shape                                 # size = ( m , h , w , c)\n",
    "        (m, o_h, o_w, c1) = dl_do.shape\n",
    "        \n",
    "        dx = np.zeros(input_X.shape)\n",
    "        \n",
    "        for i in range(m):\n",
    "            img = input_X[i]\n",
    "            \n",
    "            for height in range(o_h):\n",
    "                for width in range(o_w):\n",
    "                    for channel in range(c1):\n",
    "                                                \n",
    "                        if mode == 'max':\n",
    "                            \n",
    "                            img_ = img[(height*stride):(height*stride)+f,(width*stride):(width*stride)+f,channel]\n",
    "                            mask = img_ == np.max(img_)\n",
    "                            dx[i,(height*stride):(height*stride)+f,(width*stride):(width*stride)+f, channel] += np.multiply(mask, dl_do[i, height, width, channel])\n",
    "                            \n",
    "                        elif mode == 'average':\n",
    "                            \n",
    "                            dx_ = dl_do[i, height, width, channel]\n",
    "                            average = dx_ / (f*f)\n",
    "                            a = np.ones((f,f)) * average\n",
    "                            dx[i,(height*stride):(height*stride)+f,(width*stride):(width*stride)+f, channel] += a\n",
    "        \n",
    "        print(\"Backprop input = {}  Backprop output = {}\".format(dl_do.shape,dx.shape))\n",
    "        return dx\n",
    "        "
   ]
  },
  {
   "cell_type": "code",
   "execution_count": null,
   "metadata": {},
   "outputs": [],
   "source": []
  }
 ],
 "metadata": {
  "kernelspec": {
   "display_name": "Python 3",
   "language": "python",
   "name": "python3"
  },
  "language_info": {
   "codemirror_mode": {
    "name": "ipython",
    "version": 3
   },
   "file_extension": ".py",
   "mimetype": "text/x-python",
   "name": "python",
   "nbconvert_exporter": "python",
   "pygments_lexer": "ipython3",
   "version": "3.7.7"
  }
 },
 "nbformat": 4,
 "nbformat_minor": 4
}
