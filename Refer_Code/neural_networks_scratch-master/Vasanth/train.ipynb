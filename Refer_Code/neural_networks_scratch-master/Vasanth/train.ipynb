{
 "cells": [
  {
   "cell_type": "code",
   "execution_count": 3,
   "metadata": {},
   "outputs": [],
   "source": [
    "import numpy as np\n",
    "from Functions import load_mnist, load_cifar10\n",
    "import Conv\n",
    "import Maxpool\n",
    "import Flatten\n",
    "import FullyConnected\n",
    "import Activation_Functions\n",
    "from Optimizers import sgd, sgd_momentum, adam\n",
    "from NeuralNetwork import nn\n",
    "import sys\n",
    "\n",
    "\n",
    "def make_mnist_cnn(X_dim, num_class):\n",
    "    conv = Conv(X_dim, n_filter=32, h_filter=3,\n",
    "                w_filter=3, stride=1, padding=1)\n",
    "    relu_conv = ReLU()\n",
    "    maxpool = Maxpool(conv.out_dim, size=2, stride=1)\n",
    "    flat = Flatten()\n",
    "    fc = FullyConnected(np.prod(maxpool.out_dim), num_class)\n",
    "    return [conv, relu_conv, maxpool, flat, fc]\n",
    "\n",
    "\n",
    "def make_cifar10_cnn(X_dim, num_class):\n",
    "    conv = Conv(X_dim, n_filter=16, h_filter=5,\n",
    "                w_filter=5, stride=1, padding=2)\n",
    "    relu = ReLU()\n",
    "    maxpool = Maxpool(conv.out_dim, size=2, stride=2)\n",
    "    conv2 = Conv(maxpool.out_dim, n_filter=20, h_filter=5,\n",
    "                 w_filter=5, stride=1, padding=2)\n",
    "    relu2 = ReLU()\n",
    "    maxpool2 = Maxpool(conv2.out_dim, size=2, stride=2)\n",
    "    flat = Flatten()\n",
    "    fc = FullyConnected(np.prod(maxpool2.out_dim), num_class)\n",
    "    return [conv, relu, maxpool, conv2, relu2, maxpool2, flat, fc]\n",
    "\n",
    "\n",
    "if __name__ == \"__main__\":\n",
    "\n",
    "    if sys.argv[1] == \"mnist\":\n",
    "\n",
    "        training_set, test_set = load_mnist(\n",
    "            'data/mnist.pkl.gz', num_training=1000, num_test=1000)\n",
    "        X, y = training_set\n",
    "        X_test, y_test = test_set\n",
    "        mnist_dims = (1, 28, 28)\n",
    "        cnn = nn(make_mnist_cnn(mnist_dims, num_class=10))\n",
    "        cnn = sgd_momentum(cnn, X, y, minibatch_size=35, epoch=20,\n",
    "                           learning_rate=0.01, X_test=X_test, y_test=y_test)\n",
    "        \n",
    "        \n",
    "    if sys.argv[1] == \"cifar10\":\n",
    "        training_set, test_set = load_cifar10(\n",
    "            'data/cifar-10', num_training=1000, num_test=100)\n",
    "        X, y = training_set\n",
    "        X_test, y_test = test_set\n",
    "        cifar10_dims = (3, 32, 32)\n",
    "        cnn = nn(make_cifar10_cnn(cifar10_dims, num_class=10))\n",
    "        cnn = sgd_momentum(cnn, X, y, minibatch_size=10, epoch=200,\n",
    "                           learning_rate=0.01, X_test=X_test, y_test=y_test)\n"
   ]
  },
  {
   "cell_type": "code",
   "execution_count": null,
   "metadata": {},
   "outputs": [],
   "source": []
  }
 ],
 "metadata": {
  "kernelspec": {
   "display_name": "Python 3",
   "language": "python",
   "name": "python3"
  },
  "language_info": {
   "codemirror_mode": {
    "name": "ipython",
    "version": 3
   },
   "file_extension": ".py",
   "mimetype": "text/x-python",
   "name": "python",
   "nbconvert_exporter": "python",
   "pygments_lexer": "ipython3",
   "version": "3.7.7"
  }
 },
 "nbformat": 4,
 "nbformat_minor": 4
}
