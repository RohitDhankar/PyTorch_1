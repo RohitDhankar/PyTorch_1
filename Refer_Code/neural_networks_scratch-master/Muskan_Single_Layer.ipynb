{
  "nbformat": 4,
  "nbformat_minor": 0,
  "metadata": {
    "colab": {
      "name": "Muskan_Single Layer.ipynb",
      "provenance": [],
      "toc_visible": true
    },
    "kernelspec": {
      "name": "python3",
      "display_name": "Python 3"
    }
  },
  "cells": [
    {
      "cell_type": "code",
      "metadata": {
        "id": "p6CXK4b87mZB",
        "colab_type": "code",
        "colab": {
          "base_uri": "https://localhost:8080/",
          "height": 252
        },
        "outputId": "f4179fef-7520-48c9-f3c5-4b1be4444986"
      },
      "source": [
        "# importing required libraries\n",
        "import numpy as np\n",
        "import pandas as pd\n",
        "from tqdm import tqdm\n",
        "from keras.datasets import mnist\n",
        "\n",
        "# loading dataset\n",
        "(x_train, y_train), (x_test, y_test) = mnist.load_data()\n",
        "\n",
        "# selecting a subset of data (200 images)\n",
        "x_train = x_train[:200]\n",
        "y = y_train[:200]\n",
        "\n",
        "X = x_train.T\n",
        "X = X/255\n",
        "\n",
        "y.resize((200,1))\n",
        "y = y.T\n",
        "\n",
        "#checking value\n",
        "pd.Series(y[0]).value_counts()"
      ],
      "execution_count": 3,
      "outputs": [
        {
          "output_type": "stream",
          "text": [
            "Using TensorFlow backend.\n"
          ],
          "name": "stderr"
        },
        {
          "output_type": "stream",
          "text": [
            "Downloading data from https://s3.amazonaws.com/img-datasets/mnist.npz\n",
            "11493376/11490434 [==============================] - 2s 0us/step\n"
          ],
          "name": "stdout"
        },
        {
          "output_type": "execute_result",
          "data": {
            "text/plain": [
              "1    26\n",
              "9    23\n",
              "7    21\n",
              "4    21\n",
              "3    21\n",
              "0    21\n",
              "2    20\n",
              "6    19\n",
              "8    15\n",
              "5    13\n",
              "dtype: int64"
            ]
          },
          "metadata": {
            "tags": []
          },
          "execution_count": 3
        }
      ]
    },
    {
      "cell_type": "code",
      "metadata": {
        "id": "QufTmjV_7qV7",
        "colab_type": "code",
        "colab": {
          "base_uri": "https://localhost:8080/",
          "height": 67
        },
        "outputId": "a9069af3-ce92-495b-8ea8-caa5333792f2"
      },
      "source": [
        "for i in range(y.shape[1]):\n",
        "    if y[0][i] >4:\n",
        "        y[0][i] = 1\n",
        "    else:\n",
        "        y[0][i] = 0\n",
        "\n",
        "#checking value counts\n",
        "pd.Series(y[0]).value_counts()"
      ],
      "execution_count": 4,
      "outputs": [
        {
          "output_type": "execute_result",
          "data": {
            "text/plain": [
              "0    109\n",
              "1     91\n",
              "dtype: int64"
            ]
          },
          "metadata": {
            "tags": []
          },
          "execution_count": 4
        }
      ]
    },
    {
      "cell_type": "code",
      "metadata": {
        "id": "pUyVhUQ974gi",
        "colab_type": "code",
        "colab": {
          "base_uri": "https://localhost:8080/",
          "height": 370
        },
        "outputId": "fcd6561b-6a5f-4ce3-acd1-b0a44234ed3b"
      },
      "source": [
        "# initializing filter\n",
        "f=np.random.uniform(size=(3,5,5))\n",
        "f = f.T\n",
        "\n",
        "print('Filter 1', '\\n', f[:,:,0], '\\n')\n",
        "print('Filter 2', '\\n', f[:,:,1], '\\n')\n",
        "print('Filter 3', '\\n', f[:,:,2], '\\n')"
      ],
      "execution_count": 5,
      "outputs": [
        {
          "output_type": "stream",
          "text": [
            "Filter 1 \n",
            " [[0.57502042 0.22325089 0.71578171 0.03778955 0.2559068 ]\n",
            " [0.92193656 0.53760536 0.33264747 0.23387162 0.42855796]\n",
            " [0.65048127 0.32652839 0.92918415 0.31473543 0.18359411]\n",
            " [0.91596837 0.303635   0.19541383 0.78648483 0.34701774]\n",
            " [0.64211711 0.28309555 0.10967762 0.52172391 0.15691246]] \n",
            "\n",
            "Filter 2 \n",
            " [[0.49483126 0.77040679 0.99842582 0.54631572 0.29833313]\n",
            " [0.31012643 0.88187354 0.32967804 0.36269582 0.97048101]\n",
            " [0.8194949  0.72722713 0.23524152 0.83557025 0.2998311 ]\n",
            " [0.8723246  0.51499572 0.65407244 0.84430618 0.05077933]\n",
            " [0.78550106 0.61836234 0.06964925 0.2544751  0.27461226]] \n",
            "\n",
            "Filter 3 \n",
            " [[0.22493992 0.77910576 0.09628564 0.24745695 0.93514394]\n",
            " [0.6495476  0.75315443 0.56453427 0.93415683 0.07005371]\n",
            " [0.41624842 0.58567497 0.69904134 0.58880099 0.98218105]\n",
            " [0.76194524 0.6772001  0.97020859 0.38606932 0.66852158]\n",
            " [0.80521356 0.24960494 0.91680195 0.15167738 0.46636111]] \n",
            "\n"
          ],
          "name": "stdout"
        }
      ]
    },
    {
      "cell_type": "code",
      "metadata": {
        "id": "yK3XBInr8BRp",
        "colab_type": "code",
        "colab": {
          "base_uri": "https://localhost:8080/",
          "height": 34
        },
        "outputId": "a78feb27-18f4-4a9d-8910-e4a63506eecb"
      },
      "source": [
        "X.shape, y.shape, f.shape"
      ],
      "execution_count": 6,
      "outputs": [
        {
          "output_type": "execute_result",
          "data": {
            "text/plain": [
              "((28, 28, 200), (1, 200), (5, 5, 3))"
            ]
          },
          "metadata": {
            "tags": []
          },
          "execution_count": 6
        }
      ]
    },
    {
      "cell_type": "code",
      "metadata": {
        "id": "Y8PQv16s8F2t",
        "colab_type": "code",
        "colab": {
          "base_uri": "https://localhost:8080/",
          "height": 34
        },
        "outputId": "b093a35f-b301-4bcc-b056-c59bcbbdd5a2"
      },
      "source": [
        "# Convolution\n",
        "new_image = []\n",
        "\n",
        "# for number of images\n",
        "for k in range(X.shape[2]):\n",
        "    # sliding in horizontal direction\n",
        "    for i in range(X.shape[0]-f.shape[0]+1):\n",
        "        # sliding in vertical direction\n",
        "        for j in range(X.shape[1]-f.shape[1]+1):\n",
        "            new_image.append(X[:,:,k][i:i+f.shape[0],j:j+f.shape[1]])\n",
        "            \n",
        "# resizing the generated patches as per number of images\n",
        "new_image = np.array(new_image)\n",
        "new_image.resize((X.shape[2],int(new_image.shape[0]/X.shape[2]),new_image.shape[1],new_image.shape[2]))\n",
        "new_image.shape"
      ],
      "execution_count": 7,
      "outputs": [
        {
          "output_type": "execute_result",
          "data": {
            "text/plain": [
              "(200, 576, 5, 5)"
            ]
          },
          "metadata": {
            "tags": []
          },
          "execution_count": 7
        }
      ]
    },
    {
      "cell_type": "code",
      "metadata": {
        "id": "EysQSxeb8K0p",
        "colab_type": "code",
        "colab": {}
      },
      "source": [
        "# number of features in data set\n",
        "s_row = X.shape[0] - f.shape[0] + 1\n",
        "s_col = X.shape[1] - f.shape[1] + 1\n",
        "num_filter = f.shape[2]\n",
        "\n",
        "inputlayer_neurons = (s_row)*(s_col)*(num_filter)\n",
        "output_neurons = 1 \n",
        "\n",
        "# initializing weight\n",
        "wo=np.random.uniform(size=(inputlayer_neurons,output_neurons))"
      ],
      "execution_count": 8,
      "outputs": []
    },
    {
      "cell_type": "code",
      "metadata": {
        "id": "F6ZOhfOg8TXB",
        "colab_type": "code",
        "colab": {}
      },
      "source": [
        "# defining the Sigmoid Function\n",
        "def sigmoid (x):\n",
        "    return 1/(1 + np.exp(-x))\n",
        "\n",
        "# derivative of Sigmoid Function\n",
        "def derivatives_sigmoid(x):\n",
        "    return x * (1 - x)"
      ],
      "execution_count": 9,
      "outputs": []
    },
    {
      "cell_type": "code",
      "metadata": {
        "id": "X7nYOv5e8X9p",
        "colab_type": "code",
        "colab": {
          "base_uri": "https://localhost:8080/",
          "height": 34
        },
        "outputId": "0e2d53b1-7600-4872-8c03-f3cba91a0146"
      },
      "source": [
        "# generating output of convolution layer\n",
        "filter_output = []\n",
        "# for each image\n",
        "for i in range(len(new_image)):\n",
        "    # apply each filter\n",
        "    for k in range(f.shape[2]):\n",
        "        # do element wise multiplication\n",
        "        for j in range(new_image.shape[1]):\n",
        "            filter_output.append((new_image[i][j]*f[:,:,k]).sum()) \n",
        "\n",
        "filter_output = np.resize(np.array(filter_output), (len(new_image),f.shape[2],new_image.shape[1]))\n",
        "\n",
        "# applying activation over convolution output\n",
        "filter_output_sigmoid = sigmoid(filter_output)\n",
        "\n",
        "filter_output.shape, filter_output_sigmoid.shape"
      ],
      "execution_count": 10,
      "outputs": [
        {
          "output_type": "execute_result",
          "data": {
            "text/plain": [
              "((200, 3, 576), (200, 3, 576))"
            ]
          },
          "metadata": {
            "tags": []
          },
          "execution_count": 10
        }
      ]
    },
    {
      "cell_type": "code",
      "metadata": {
        "id": "HyGCExEk8b6O",
        "colab_type": "code",
        "colab": {}
      },
      "source": [
        "# generating input for fully connected layer\n",
        "filter_output_sigmoid = filter_output_sigmoid.reshape((filter_output_sigmoid.shape[0],filter_output_sigmoid.shape[1]*filter_output_sigmoid.shape[2]))\n",
        "\n",
        "filter_output_sigmoid = filter_output_sigmoid.T\n",
        "\n",
        "# Linear trasnformation for fully Connected Layer\n",
        "output_layer_input= np.dot(wo.T,filter_output_sigmoid)\n",
        "output_layer_input = (output_layer_input - np.average(output_layer_input))/np.std(output_layer_input)\n",
        "\n",
        "# activation function\n",
        "output = sigmoid(output_layer_input)"
      ],
      "execution_count": 11,
      "outputs": []
    },
    {
      "cell_type": "code",
      "metadata": {
        "id": "MWgNtFxj90Sj",
        "colab_type": "code",
        "colab": {}
      },
      "source": [
        "#Error\n",
        "error = np.square(y-output)/2\n",
        "\n",
        "#Error w.r.t Output (Gradient)\n",
        "error_wrt_output = -(y-output)\n",
        "\n",
        "#Error w.r.t sigmoid transformation (output_layer_input)\n",
        "output_wrt_output_layer_input=output*(1-output)\n",
        "\n",
        "#Error w.r.t weight\n",
        "output_wrt_w=filter_output_sigmoid"
      ],
      "execution_count": 12,
      "outputs": []
    },
    {
      "cell_type": "code",
      "metadata": {
        "id": "UPkg6VoH94zQ",
        "colab_type": "code",
        "colab": {}
      },
      "source": [
        "#delta change in w for fully connected layer\n",
        "lr=15\n",
        "delta_error_fcp = np.dot(output_wrt_w,(error_wrt_output * output_wrt_output_layer_input).T)\n",
        "\n",
        "wo = wo - lr*delta_error_fcp"
      ],
      "execution_count": 13,
      "outputs": []
    },
    {
      "cell_type": "code",
      "metadata": {
        "id": "mlg8FsR997bL",
        "colab_type": "code",
        "colab": {}
      },
      "source": [
        "#Error w.r.t sigmoid output\n",
        "output_layer_input_wrt_filter_output_sigmoid = wo.T\n",
        "\n",
        "#Error w.r.t sigmoid transformation\n",
        "filter_output_sigmoid_wrt_filter_output = filter_output_sigmoid * (1-filter_output_sigmoid)\n",
        "\n",
        "# cvalculating derivatives for backprop convolution\n",
        "error_wrt_filter_output = np.dot(output_layer_input_wrt_filter_output_sigmoid.T,error_wrt_output*output_wrt_output_layer_input) * filter_output_sigmoid_wrt_filter_output\n",
        "error_wrt_filter_output = np.average(error_wrt_filter_output, axis=1)\n",
        "error_wrt_filter_output = np.resize(error_wrt_filter_output,(X.shape[0]-f.shape[0]+1,X.shape[1]-f.shape[1]+1, f.shape[2]))"
      ],
      "execution_count": 14,
      "outputs": []
    },
    {
      "cell_type": "code",
      "metadata": {
        "id": "8hNArxqO_rFW",
        "colab_type": "code",
        "colab": {}
      },
      "source": [
        "filter_update = []\n",
        "for i in range(f.shape[2]):\n",
        "    for j in range(f.shape[0]):\n",
        "        for k in range(f.shape[1]):            \n",
        "            temp = 0\n",
        "            spos_row = j\n",
        "            spos_col = k\n",
        "            epos_row = spos_row + s_row\n",
        "            epos_col = spos_col + s_col\n",
        "            for l in range(X.shape[2]):\n",
        "                temp = temp + (X[spos_row:epos_row,spos_col:epos_col,l]*error_wrt_filter_output[:,:,i]).sum()\n",
        "            filter_update.append(temp/X.shape[2])  \n",
        "\n",
        "filter_update_array = np.array(filter_update)\n",
        "filter_update_array = np.resize(filter_update_array,(f.shape[2],f.shape[0],f.shape[1]))\n"
      ],
      "execution_count": 15,
      "outputs": []
    },
    {
      "cell_type": "code",
      "metadata": {
        "id": "fr7DcJgq_uYL",
        "colab_type": "code",
        "colab": {}
      },
      "source": [
        "for i in range(f.shape[2]):\n",
        "    f[:,:,i] = f[:,:,i] - lr*filter_update_array[i]"
      ],
      "execution_count": 16,
      "outputs": []
    },
    {
      "cell_type": "code",
      "metadata": {
        "id": "klvx_mBt_yYQ",
        "colab_type": "code",
        "colab": {}
      },
      "source": [
        ""
      ],
      "execution_count": null,
      "outputs": []
    }
  ]
}