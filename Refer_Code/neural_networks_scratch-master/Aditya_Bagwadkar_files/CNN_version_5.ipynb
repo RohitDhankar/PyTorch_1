{
  "nbformat": 4,
  "nbformat_minor": 0,
  "metadata": {
    "kernelspec": {
      "display_name": "Python 3",
      "language": "python",
      "name": "python3"
    },
    "language_info": {
      "codemirror_mode": {
        "name": "ipython",
        "version": 3
      },
      "file_extension": ".py",
      "mimetype": "text/x-python",
      "name": "python",
      "nbconvert_exporter": "python",
      "pygments_lexer": "ipython3",
      "version": "3.7.7"
    },
    "colab": {
      "name": "CNN_version_5.ipynb",
      "provenance": []
    }
  },
  "cells": [
    {
      "cell_type": "code",
      "metadata": {
        "id": "QSgVAzRcPgkD",
        "colab_type": "code",
        "colab": {}
      },
      "source": [
        "from CNN import CNN\n",
        "from max_pool import max_pool\n",
        "from NeuralNetwork import NeuralNetwork \n",
        "import numpy as np\n",
        "import tensorflow as tf\n"
      ],
      "execution_count": 36,
      "outputs": []
    },
    {
      "cell_type": "code",
      "metadata": {
        "id": "qXJUo3WhQTHO",
        "colab_type": "code",
        "colab": {}
      },
      "source": [
        "(x_train, y_train), (x_test, y_test)=tf.keras.datasets.cifar10.load_data()"
      ],
      "execution_count": 30,
      "outputs": []
    },
    {
      "cell_type": "code",
      "metadata": {
        "id": "HkcKdMhlQaWE",
        "colab_type": "code",
        "colab": {}
      },
      "source": [
        "training_images = np.random.randint(x_train[:1000,:,:,:])"
      ],
      "execution_count": 69,
      "outputs": []
    },
    {
      "cell_type": "code",
      "metadata": {
        "id": "VZvIoIAmQpLb",
        "colab_type": "code",
        "colab": {}
      },
      "source": [
        "training_images=training_images / 255"
      ],
      "execution_count": 70,
      "outputs": []
    },
    {
      "cell_type": "code",
      "metadata": {
        "id": "EDbFngs1Q4hs",
        "colab_type": "code",
        "colab": {
          "base_uri": "https://localhost:8080/",
          "height": 33
        },
        "outputId": "18685c8f-1d3d-4a5a-865c-ba205ab704c2"
      },
      "source": [
        "training_images.shape"
      ],
      "execution_count": 71,
      "outputs": [
        {
          "output_type": "execute_result",
          "data": {
            "text/plain": [
              "(1000, 32, 32, 3)"
            ]
          },
          "metadata": {
            "tags": []
          },
          "execution_count": 71
        }
      ]
    },
    {
      "cell_type": "code",
      "metadata": {
        "id": "1t8RmczBQh3t",
        "colab_type": "code",
        "colab": {}
      },
      "source": [
        "training_labels = np.random.randint(y_train[:1000,:])"
      ],
      "execution_count": 72,
      "outputs": []
    },
    {
      "cell_type": "code",
      "metadata": {
        "id": "JoXQ47hcQh6r",
        "colab_type": "code",
        "colab": {}
      },
      "source": [
        "training_labels"
      ],
      "execution_count": null,
      "outputs": []
    },
    {
      "cell_type": "code",
      "metadata": {
        "id": "4nsxfrafQh9M",
        "colab_type": "code",
        "colab": {}
      },
      "source": [
        "testing_images = x_test[:10,:,:,:]"
      ],
      "execution_count": 37,
      "outputs": []
    },
    {
      "cell_type": "code",
      "metadata": {
        "id": "A1BX02LFSjCc",
        "colab_type": "code",
        "colab": {}
      },
      "source": [
        "testing_images = testing_images / 255"
      ],
      "execution_count": 74,
      "outputs": []
    },
    {
      "cell_type": "code",
      "metadata": {
        "id": "Y9q6TurdQh_p",
        "colab_type": "code",
        "colab": {}
      },
      "source": [
        "testing_labels = y_test[:10,:]"
      ],
      "execution_count": 75,
      "outputs": []
    },
    {
      "cell_type": "code",
      "metadata": {
        "id": "EGCoJ1JBS3uA",
        "colab_type": "code",
        "colab": {
          "base_uri": "https://localhost:8080/",
          "height": 180
        },
        "outputId": "a1cee0ca-d3fc-4f38-db59-fb6de1efd385"
      },
      "source": [
        "testing_labels"
      ],
      "execution_count": 76,
      "outputs": [
        {
          "output_type": "execute_result",
          "data": {
            "text/plain": [
              "array([[3],\n",
              "       [8],\n",
              "       [8],\n",
              "       [0],\n",
              "       [6],\n",
              "       [6],\n",
              "       [1],\n",
              "       [6],\n",
              "       [3],\n",
              "       [1]], dtype=uint8)"
            ]
          },
          "metadata": {
            "tags": []
          },
          "execution_count": 76
        }
      ]
    },
    {
      "cell_type": "code",
      "metadata": {
        "id": "MQbjrSsxPgkJ",
        "colab_type": "code",
        "colab": {}
      },
      "source": [
        "X = np.random.randn(10,32,32,3)"
      ],
      "execution_count": null,
      "outputs": []
    },
    {
      "cell_type": "code",
      "metadata": {
        "scrolled": true,
        "id": "c3BQTns9PgkN",
        "colab_type": "code",
        "colab": {
          "base_uri": "https://localhost:8080/",
          "height": 277
        },
        "outputId": "eaa0a9de-4fbc-42b0-e2e7-5497277a135e"
      },
      "source": [
        "conv_layer0 = CNN(n_f = 16 , f = 3 , stride = 1 , padding = 'same')\n",
        "conv_layer1 = CNN(n_f = 8 , f = 3 , stride = 1 , padding = 'same')\n",
        "conv_layer2 = CNN(n_f = 32 , f = 5 , stride = 1 , padding = 'valid')\n",
        "conv_layer3 = CNN(n_f = 16 , f = 3 , stride = 1 , padding = 'same')\n",
        "pooling0 = max_pool(f=2,mode = \"max\",stride=2)\n",
        "neural0 = NeuralNetwork(input_size = 3136,layers = (256,128) ,output_size = 10)\n",
        "\n",
        "first = conv_layer0.Forward_pass(training_images)\n",
        "second = conv_layer1.Forward_pass(first)\n",
        "third = conv_layer2.Forward_pass(second)\n",
        "fourth = pooling0.Forward_pass(third)\n",
        "fifth = conv_layer3.Forward_pass(fourth)\n",
        "sixth = np.reshape(fifth,(1000,-1))\n",
        "\n",
        "print('The Input after Flattening for MLP {}'.format(sixth.shape))\n",
        "\n",
        "seventh = neural0.forward(sixth)\n",
        "\n",
        "\n",
        "print('Backword_Pass')\n",
        "dneural = neural0.backward(seventh)\n",
        "print(\"Input shape = {} Output shape = {}\".format(seventh.shape,dneural.shape))\n",
        "\n",
        "dneural = np.reshape(dneural,fifth.shape)\n",
        "\n",
        "dconv3 = conv_layer3.Backward_pass(dneural)\n",
        "dpool0 = pooling0.Backward_pass(dconv3)\n",
        "dconv2 = conv_layer2.Backward_pass(dpool0)\n",
        "dconv1 = conv_layer1.Backward_pass(dconv2)\n",
        "dconv0 = conv_layer0.Backward_pass(dconv1)"
      ],
      "execution_count": 80,
      "outputs": [
        {
          "output_type": "stream",
          "text": [
            "Input shape = (1000, 32, 32, 3) Filter shape = (3, 3, 3, 16) Output shape = (1000, 32, 32, 16)\n",
            "Input shape = (1000, 32, 32, 16) Filter shape = (3, 3, 16, 8) Output shape = (1000, 32, 32, 8)\n",
            "Input shape = (1000, 32, 32, 8) Filter shape = (5, 5, 8, 32) Output shape = (1000, 28, 28, 32)\n",
            "Input shape = (1000, 28, 28, 32) Output shape = (1000, 14, 14, 32)\n",
            "Input shape = (1000, 14, 14, 32) Filter shape = (3, 3, 32, 16) Output shape = (1000, 14, 14, 16)\n",
            "The Input after Flattening for MLP (1000, 3136)\n",
            "Input shape = (1000, 3136) Output shape = (1000, 256)\n",
            "Input shape = (1000, 256) Output shape = (1000, 128)\n",
            "Input shape = (1000, 128) Output shape = (1000, 10)\n",
            "Backword_Pass\n",
            "Input shape = (1000, 10) Output shape = (1000, 3136)\n",
            "Backprop input = (1000, 14, 14, 16)  Backprop output = (1000, 14, 14, 32)\n",
            "Backprop input = (1000, 14, 14, 32)  Backprop output = (1000, 28, 28, 32)\n",
            "Backprop input = (1000, 28, 28, 32)  Backprop output = (1000, 32, 32, 8)\n",
            "Backprop input = (1000, 32, 32, 8)  Backprop output = (1000, 32, 32, 16)\n",
            "Backprop input = (1000, 32, 32, 16)  Backprop output = (1000, 32, 32, 3)\n"
          ],
          "name": "stdout"
        }
      ]
    },
    {
      "cell_type": "code",
      "metadata": {
        "id": "P7vjcqG8cFxS",
        "colab_type": "code",
        "colab": {}
      },
      "source": [
        "class CNN_Model:\n",
        "  def __init__(self):\n",
        "    conv_layer0 = CNN(n_f = 16 , f = 3 , stride = 1 , padding = 'same')\n",
        "    conv_layer1 = CNN(n_f = 8 , f = 3 , stride = 1 , padding = 'same')\n",
        "    conv_layer2 = CNN(n_f = 32 , f = 5 , stride = 1 , padding = 'valid')\n",
        "    conv_layer3 = CNN(n_f = 16 , f = 3 , stride = 1 , padding = 'same')\n",
        "    pooling0 = max_pool(f=2,mode = \"max\",stride=2)\n",
        "    neural0 = NeuralNetwork(input_size = 3136,layers = (256,128) ,output_size = 10)\n",
        "    \n",
        "\n",
        " def train(self,training_images,epoch,training_labels):\n",
        "    EPOCH=epoch\n",
        "\n",
        "    for i in EPOCH:\n",
        "        first = conv_layer0.Forward_pass(training_images)\n",
        "        second = conv_layer1.Forward_pass(first)\n",
        "        third = conv_layer2.Forward_pass(second)\n",
        "        fourth = pooling0.Forward_pass(third)\n",
        "        fifth = conv_layer3.Forward_pass(fourth)\n",
        "        sixth = np.reshape(fifth,(1000,-1))\n",
        "        print('\\nThe Input after Flattening for MLP {}\\n'.format(sixth.shape))\n",
        "        seventh = neural0.forward(sixth)\n",
        "        print('\\nApplying Softmax activation function\\n')\n",
        "        seventh = neural0.softmax(seventh)\n",
        "        eigth = neural0.one_hot(seventh,10)\n",
        "        ninth = neural0.loss(eigth,training_labels)\n",
        "        print(\"\\nLoss = {}\\n\".format(ninth))\n",
        "        print('\\nBackward_Pass\\n')\n",
        "        dneural = neural0.backward(ninth)\n",
        "        print(\"\\nInput shape = {} Output shape = {}\\n\".format(seventh.shape,dneural.shape))\n",
        "        dneural = np.reshape(dneural,fifth.shape)\n",
        "        dconv3 = conv_layer3.Backward_pass(dneural)\n",
        "        dpool0 = pooling0.Backward_pass(dconv3)\n",
        "        dconv2 = conv_layer2.Backward_pass(dpool0)\n",
        "        dconv1 = conv_layer1.Backward_pass(dconv2)\n",
        "        dconv0 = conv_layer0.Backward_pass(dconv1)\n",
        "\n",
        "  def eval(self,testing_images,testing_labels):\n",
        "     \n",
        "     first = conv_layer0.Forward_pass(training_images)\n",
        "     second = conv_layer1.Forward_pass(first)\n",
        "     third = conv_layer2.Forward_pass(second)\n",
        "     fourth = pooling0.Forward_pass(third)\n",
        "     fifth = conv_layer3.Forward_pass(fourth)\n",
        "     sixth = np.reshape(fifth,(1000,-1))\n",
        "     print('\\nThe Input after Flattening for MLP {}\\n'.format(sixth.shape))\n",
        "     seventh = neural0.forward(sixth)\n",
        "     seventh = neural0.softmax(seventh)\n",
        "     eigth = neural0.one_hot(seventh,10)\n",
        "     ninth = neural0.loss(eigth,testing_labels)\n",
        "     print(\"\\nLoss = {}\\n\".format(ninth))\n",
        "\n"
      ],
      "execution_count": null,
      "outputs": []
    },
    {
      "cell_type": "code",
      "metadata": {
        "id": "wbMNy4ugPgkT",
        "colab_type": "code",
        "colab": {}
      },
      "source": [
        ""
      ],
      "execution_count": null,
      "outputs": []
    }
  ]
}