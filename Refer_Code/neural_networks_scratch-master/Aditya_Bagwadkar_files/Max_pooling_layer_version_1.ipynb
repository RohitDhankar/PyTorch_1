{
  "nbformat": 4,
  "nbformat_minor": 0,
  "metadata": {
    "colab": {
      "name": "Max pooling layer from scratch.ipynb",
      "provenance": [],
      "collapsed_sections": []
    },
    "kernelspec": {
      "name": "python3",
      "display_name": "Python 3"
    }
  },
  "cells": [
    {
      "cell_type": "code",
      "metadata": {
        "id": "OPREcltxxqM1",
        "colab_type": "code",
        "colab": {}
      },
      "source": [
        "import numpy as np"
      ],
      "execution_count": 0,
      "outputs": []
    },
    {
      "cell_type": "code",
      "metadata": {
        "id": "zab-X5u0xrBW",
        "colab_type": "code",
        "colab": {}
      },
      "source": [
        "def pool_forward(A_prev,hyper_parameters):\n",
        "  (m,n_H_prev,n_W_prev,n_C_prev)=np.shape(A_prev)\n",
        "\n",
        "  print(\"\\nNumber of training examples = \",m)\n",
        "  print(\"\\nHeight dimension of output of previous layer =\",n_H_prev)\n",
        "  print(\"\\nWidth  dimension of output of previous layer =\",n_W_prev)\n",
        "  print(\"\\nNumber of channels in the  output of previous layer =\",n_C_prev)\n",
        "\n",
        "  f = hyper_parameters[\"f\"]\n",
        "  stride = hyper_parameters[\"stride\"]\n",
        "\n",
        "  print(\"\\nHeight dimension of filter kernel =\",f)\n",
        "  print(\"\\nWidth  dimension of filter kernel =\",f)\n",
        "  print(\"\\nNumber of steps used by filter to move or parse across the output of previous layer =\",stride)\n",
        "\n",
        "  print(\"\\nComputing the height and width dimension of the output using formulas:-\\n\\n\") \n",
        "  print(\"\\n       |    n_H_prev - f      |                |    n_W_prev - f      |\")    \n",
        "  print(\"\\n n_H = |----------------------| + 1     n_W =  |----------------------| + 1\")\n",
        "  print(\"\\n       |       stride         |                |       stride         |\")\n",
        "\n",
        "  n_H = int(1+(n_H_prev-f)/stride)\n",
        "  n_W = int(1+(n_W_prev-f)/stride)\n",
        "  n_C = n_C_prev\n",
        "\n",
        "  print(\"\\nHeight dimension of the result = \",n_H) \n",
        "  print(\"\\nWidth  dimension of the result = \",n_W)\n",
        "\n",
        "  A = np.zeros((m,n_H,n_W,n_C))\n",
        "\n",
        "  print(\"\\n Applying Max pooling filters on the input data .........\")\n",
        "  for i in range(m):\n",
        "    \n",
        "    for h in range(n_H):\n",
        "      vert_start = h*stride\n",
        "      vert_end   = h*stride + f\n",
        "\n",
        "      for w in range(n_W):\n",
        "        horiz_start = w*stride\n",
        "        horiz_end   = w*stride + f\n",
        "\n",
        "        for c in range(n_C):\n",
        "          a_prev_slice = A_prev[i,vert_start:vert_end,horiz_start:horiz_end,c]\n",
        "\n",
        "          A[i,h,w,c] = np.max(a_prev_slice)\n",
        "\n",
        "  cache = (A_prev,hyper_parameters)\n",
        "  assert(A.shape == (m,n_H,n_W,n_C))  \n",
        "  return A,cache      "
      ],
      "execution_count": 0,
      "outputs": []
    },
    {
      "cell_type": "code",
      "metadata": {
        "id": "GxawApB-0p9i",
        "colab_type": "code",
        "colab": {
          "base_uri": "https://localhost:8080/",
          "height": 1000
        },
        "outputId": "66586722-302e-4c8e-e05f-afa1a4af0a5d"
      },
      "source": [
        "np.random.seed(1)\n",
        "A_prev = np.random.randn(2,5,5,3)\n",
        "hyper_parameters = {\"stride\":1,\"f\":3}\n",
        "\n",
        "A,cache = pool_forward(A_prev,hyper_parameters)\n",
        "print(\"\\n Max pooling\")\n",
        "print(\"\\n Dimensions after applying Max pooling = \"+str(A.shape))\n",
        "print(\"\\n A= \\n\",A)"
      ],
      "execution_count": 3,
      "outputs": [
        {
          "output_type": "stream",
          "text": [
            "\n",
            "Number of training examples =  2\n",
            "\n",
            "Height dimension of output of previous layer = 5\n",
            "\n",
            "Width  dimension of output of previous layer = 5\n",
            "\n",
            "Number of channels in the  output of previous layer = 3\n",
            "\n",
            "Height dimension of filter kernel = 3\n",
            "\n",
            "Width  dimension of filter kernel = 3\n",
            "\n",
            "Number of steps used by filter to move or parse across the output of previous layer = 1\n",
            "\n",
            "Computing the height and width dimension of the output using formulas:-\n",
            "\n",
            "\n",
            "\n",
            "       |    n_H_prev - f      |                |    n_W_prev - f      |\n",
            "\n",
            " n_H = |----------------------| + 1     n_W =  |----------------------| + 1\n",
            "\n",
            "       |       stride         |                |       stride         |\n",
            "\n",
            "Height dimension of the result =  3\n",
            "\n",
            "Width  dimension of the result =  3\n",
            "\n",
            " Applying Max pooling filters on the input data .........\n",
            "\n",
            " Max pooling\n",
            "\n",
            " Dimensions after applying Max pooling = (2, 3, 3, 3)\n",
            "\n",
            " A= \n",
            " [[[[1.74481176 0.90159072 1.65980218]\n",
            "   [1.74481176 1.46210794 1.65980218]\n",
            "   [1.74481176 1.6924546  1.65980218]]\n",
            "\n",
            "  [[1.14472371 0.90159072 2.10025514]\n",
            "   [1.14472371 0.90159072 1.65980218]\n",
            "   [1.14472371 1.6924546  1.65980218]]\n",
            "\n",
            "  [[1.13162939 1.51981682 2.18557541]\n",
            "   [1.13162939 1.51981682 2.18557541]\n",
            "   [1.13162939 1.6924546  2.18557541]]]\n",
            "\n",
            "\n",
            " [[[1.19891788 0.84616065 0.82797464]\n",
            "   [0.69803203 0.84616065 1.2245077 ]\n",
            "   [0.69803203 1.12141771 1.2245077 ]]\n",
            "\n",
            "  [[1.96710175 0.84616065 1.27375593]\n",
            "   [1.96710175 0.84616065 1.23616403]\n",
            "   [1.62765075 1.12141771 1.2245077 ]]\n",
            "\n",
            "  [[1.96710175 0.86888616 1.27375593]\n",
            "   [1.96710175 0.86888616 1.23616403]\n",
            "   [1.62765075 1.12141771 0.79280687]]]]\n"
          ],
          "name": "stdout"
        }
      ]
    },
    {
      "cell_type": "code",
      "metadata": {
        "id": "IYzhNHRx1XQU",
        "colab_type": "code",
        "colab": {}
      },
      "source": [
        ""
      ],
      "execution_count": 0,
      "outputs": []
    }
  ]
}