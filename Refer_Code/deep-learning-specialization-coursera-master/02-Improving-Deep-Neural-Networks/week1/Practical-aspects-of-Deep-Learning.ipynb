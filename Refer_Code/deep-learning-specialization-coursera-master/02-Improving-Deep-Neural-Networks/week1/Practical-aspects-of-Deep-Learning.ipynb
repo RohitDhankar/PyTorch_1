{
 "cells": [
  {
   "cell_type": "markdown",
   "metadata": {
    "toc": "true"
   },
   "source": [
    "# Table of Contents\n",
    " <p><div class=\"lev1 toc-item\"><a href=\"#Setting-up-your-machine-Learning-Application\" data-toc-modified-id=\"Setting-up-your-machine-Learning-Application-1\"><span class=\"toc-item-num\">1&nbsp;&nbsp;</span>Setting up your machine Learning Application</a></div><div class=\"lev2 toc-item\"><a href=\"#Train-/-Dev-/-Test-sets\" data-toc-modified-id=\"Train-/-Dev-/-Test-sets-11\"><span class=\"toc-item-num\">1.1&nbsp;&nbsp;</span>Train / Dev / Test sets</a></div><div class=\"lev2 toc-item\"><a href=\"#Bias-/-Variance\" data-toc-modified-id=\"Bias-/-Variance-12\"><span class=\"toc-item-num\">1.2&nbsp;&nbsp;</span>Bias / Variance</a></div><div class=\"lev2 toc-item\"><a href=\"#Basic-Recipe-for-Machine-Learning\" data-toc-modified-id=\"Basic-Recipe-for-Machine-Learning-13\"><span class=\"toc-item-num\">1.3&nbsp;&nbsp;</span>Basic Recipe for Machine Learning</a></div><div class=\"lev1 toc-item\"><a href=\"#Regularizing-your-neural-network\" data-toc-modified-id=\"Regularizing-your-neural-network-2\"><span class=\"toc-item-num\">2&nbsp;&nbsp;</span>Regularizing your neural network</a></div><div class=\"lev2 toc-item\"><a href=\"#Regularization\" data-toc-modified-id=\"Regularization-21\"><span class=\"toc-item-num\">2.1&nbsp;&nbsp;</span>Regularization</a></div><div class=\"lev2 toc-item\"><a href=\"#Why-regularization-reduces-overfitting?\" data-toc-modified-id=\"Why-regularization-reduces-overfitting?-22\"><span class=\"toc-item-num\">2.2&nbsp;&nbsp;</span>Why regularization reduces overfitting?</a></div><div class=\"lev2 toc-item\"><a href=\"#Dropout-Regularization\" data-toc-modified-id=\"Dropout-Regularization-23\"><span class=\"toc-item-num\">2.3&nbsp;&nbsp;</span>Dropout Regularization</a></div><div class=\"lev2 toc-item\"><a href=\"#Understanding-Dropout\" data-toc-modified-id=\"Understanding-Dropout-24\"><span class=\"toc-item-num\">2.4&nbsp;&nbsp;</span>Understanding Dropout</a></div><div class=\"lev2 toc-item\"><a href=\"#Other-regularization-methods\" data-toc-modified-id=\"Other-regularization-methods-25\"><span class=\"toc-item-num\">2.5&nbsp;&nbsp;</span>Other regularization methods</a></div><div class=\"lev1 toc-item\"><a href=\"#Setting-up-your-optimization-problem\" data-toc-modified-id=\"Setting-up-your-optimization-problem-3\"><span class=\"toc-item-num\">3&nbsp;&nbsp;</span>Setting up your optimization problem</a></div><div class=\"lev2 toc-item\"><a href=\"#Normalizing-inputs\" data-toc-modified-id=\"Normalizing-inputs-31\"><span class=\"toc-item-num\">3.1&nbsp;&nbsp;</span>Normalizing inputs</a></div><div class=\"lev2 toc-item\"><a href=\"#Vanishing-/-Exploding-gradients\" data-toc-modified-id=\"Vanishing-/-Exploding-gradients-32\"><span class=\"toc-item-num\">3.2&nbsp;&nbsp;</span>Vanishing / Exploding gradients</a></div><div class=\"lev2 toc-item\"><a href=\"#Weight-Initialization-for-Deep-Networks\" data-toc-modified-id=\"Weight-Initialization-for-Deep-Networks-33\"><span class=\"toc-item-num\">3.3&nbsp;&nbsp;</span>Weight Initialization for Deep Networks</a></div><div class=\"lev2 toc-item\"><a href=\"#Numerical-approximation-of-gradients\" data-toc-modified-id=\"Numerical-approximation-of-gradients-34\"><span class=\"toc-item-num\">3.4&nbsp;&nbsp;</span>Numerical approximation of gradients</a></div><div class=\"lev2 toc-item\"><a href=\"#Gradient-Checking\" data-toc-modified-id=\"Gradient-Checking-35\"><span class=\"toc-item-num\">3.5&nbsp;&nbsp;</span>Gradient Checking</a></div><div class=\"lev2 toc-item\"><a href=\"#Gradient-Checking-Implementation-Notes\" data-toc-modified-id=\"Gradient-Checking-Implementation-Notes-36\"><span class=\"toc-item-num\">3.6&nbsp;&nbsp;</span>Gradient Checking Implementation Notes</a></div>"
   ]
  },
  {
   "cell_type": "markdown",
   "metadata": {},
   "source": [
    "# Setting up your machine Learning Application"
   ]
  },
  {
   "cell_type": "markdown",
   "metadata": {},
   "source": [
    "## Train / Dev / Test sets"
   ]
  },
  {
   "cell_type": "markdown",
   "metadata": {},
   "source": [
    "![](https://i.imgur.com/zhNfPDO.png)"
   ]
  },
  {
   "cell_type": "markdown",
   "metadata": {},
   "source": [
    "![](https://i.imgur.com/M2sJUEW.png)"
   ]
  },
  {
   "cell_type": "markdown",
   "metadata": {},
   "source": [
    "![](https://i.imgur.com/3ZE2tkh.png)"
   ]
  },
  {
   "cell_type": "markdown",
   "metadata": {},
   "source": [
    "## Bias / Variance"
   ]
  },
  {
   "cell_type": "markdown",
   "metadata": {},
   "source": [
    "![](https://i.imgur.com/zUwoWUf.png)"
   ]
  },
  {
   "cell_type": "markdown",
   "metadata": {},
   "source": [
    "## Basic Recipe for Machine Learning"
   ]
  },
  {
   "cell_type": "markdown",
   "metadata": {},
   "source": [
    "![](https://i.imgur.com/9JBOjZn.png)"
   ]
  },
  {
   "cell_type": "markdown",
   "metadata": {},
   "source": [
    "# Regularizing your neural network"
   ]
  },
  {
   "cell_type": "markdown",
   "metadata": {},
   "source": [
    "## Regularization"
   ]
  },
  {
   "cell_type": "markdown",
   "metadata": {},
   "source": [
    "![](https://i.imgur.com/oQeoTQB.png)"
   ]
  },
  {
   "cell_type": "markdown",
   "metadata": {},
   "source": [
    "![](https://i.imgur.com/KBOdujA.png)"
   ]
  },
  {
   "cell_type": "markdown",
   "metadata": {},
   "source": [
    "## Why regularization reduces overfitting?"
   ]
  },
  {
   "cell_type": "markdown",
   "metadata": {},
   "source": [
    "![](https://i.imgur.com/86HoIQn.png)"
   ]
  },
  {
   "cell_type": "markdown",
   "metadata": {},
   "source": [
    "![](https://i.imgur.com/cXX9dOd.png)"
   ]
  },
  {
   "cell_type": "markdown",
   "metadata": {},
   "source": [
    "## Dropout Regularization"
   ]
  },
  {
   "cell_type": "markdown",
   "metadata": {},
   "source": [
    "![](https://i.imgur.com/dNacOCr.png)\n",
    "![](https://i.imgur.com/KD7pcKH.png)\n",
    "![](https://i.imgur.com/QuZ5UNB.png)"
   ]
  },
  {
   "cell_type": "markdown",
   "metadata": {},
   "source": [
    "## Understanding Dropout"
   ]
  },
  {
   "cell_type": "markdown",
   "metadata": {},
   "source": [
    "![](https://i.imgur.com/hW8BZwj.png)"
   ]
  },
  {
   "cell_type": "markdown",
   "metadata": {},
   "source": [
    "## Other regularization methods\n",
    "\n"
   ]
  },
  {
   "cell_type": "markdown",
   "metadata": {},
   "source": [
    "![](https://i.imgur.com/BVmNSMM.png)\n",
    "![](https://i.imgur.com/SntfgkV.png)"
   ]
  },
  {
   "cell_type": "markdown",
   "metadata": {},
   "source": [
    "# Setting up your optimization problem"
   ]
  },
  {
   "cell_type": "markdown",
   "metadata": {},
   "source": [
    "## Normalizing inputs"
   ]
  },
  {
   "cell_type": "markdown",
   "metadata": {},
   "source": [
    "![](https://i.imgur.com/a2ZdeSg.png)\n",
    "![](https://i.imgur.com/Ph78qBk.png)"
   ]
  },
  {
   "cell_type": "markdown",
   "metadata": {},
   "source": [
    "## Vanishing / Exploding gradients"
   ]
  },
  {
   "cell_type": "markdown",
   "metadata": {},
   "source": [
    "![](https://i.imgur.com/GzjU43b.png)"
   ]
  },
  {
   "cell_type": "markdown",
   "metadata": {},
   "source": [
    "## Weight Initialization for Deep Networks"
   ]
  },
  {
   "cell_type": "markdown",
   "metadata": {},
   "source": [
    "![](https://i.imgur.com/uWl9XI9.png)"
   ]
  },
  {
   "cell_type": "markdown",
   "metadata": {},
   "source": [
    "## Numerical approximation of gradients"
   ]
  },
  {
   "cell_type": "markdown",
   "metadata": {},
   "source": [
    "![](https://i.imgur.com/Z1DBfT1.png)"
   ]
  },
  {
   "cell_type": "markdown",
   "metadata": {},
   "source": [
    "## Gradient Checking"
   ]
  },
  {
   "cell_type": "markdown",
   "metadata": {},
   "source": [
    "![](https://i.imgur.com/MLWOkP2.png)\n",
    "![](https://i.imgur.com/4ndm620.png)"
   ]
  },
  {
   "cell_type": "markdown",
   "metadata": {},
   "source": [
    "## Gradient Checking Implementation Notes"
   ]
  },
  {
   "cell_type": "markdown",
   "metadata": {},
   "source": [
    "![](https://i.imgur.com/dwjrd88g.png)"
   ]
  }
 ],
 "metadata": {
  "kernelspec": {
   "display_name": "Python 3",
   "language": "python",
   "name": "python3"
  },
  "language_info": {
   "codemirror_mode": {
    "name": "ipython",
    "version": 3
   },
   "file_extension": ".py",
   "mimetype": "text/x-python",
   "name": "python",
   "nbconvert_exporter": "python",
   "pygments_lexer": "ipython3",
   "version": "3.6.2"
  },
  "toc": {
   "colors": {
    "hover_highlight": "#DAA520",
    "navigate_num": "#000000",
    "navigate_text": "#333333",
    "running_highlight": "#FF0000",
    "selected_highlight": "#FFD700",
    "sidebar_border": "#EEEEEE",
    "wrapper_background": "#FFFFFF"
   },
   "moveMenuLeft": true,
   "nav_menu": {
    "height": "333px",
    "width": "252px"
   },
   "navigate_menu": true,
   "number_sections": true,
   "sideBar": true,
   "threshold": 4,
   "toc_cell": true,
   "toc_section_display": "block",
   "toc_window_display": true,
   "widenNotebook": false
  }
 },
 "nbformat": 4,
 "nbformat_minor": 2
}
