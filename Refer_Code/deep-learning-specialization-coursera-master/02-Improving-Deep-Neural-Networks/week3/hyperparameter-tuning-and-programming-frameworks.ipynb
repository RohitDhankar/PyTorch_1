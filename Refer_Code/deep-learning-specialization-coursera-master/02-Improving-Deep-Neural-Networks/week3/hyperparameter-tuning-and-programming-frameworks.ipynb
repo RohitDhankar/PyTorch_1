{
 "cells": [
  {
   "cell_type": "markdown",
   "metadata": {
    "toc": "true"
   },
   "source": [
    "# Table of Contents\n",
    " <p><div class=\"lev1 toc-item\"><a href=\"#Hyperparameter-tuning,-Batch-Normalization-and-Programming-Frameworks\" data-toc-modified-id=\"Hyperparameter-tuning,-Batch-Normalization-and-Programming-Frameworks-1\"><span class=\"toc-item-num\">1&nbsp;&nbsp;</span>Hyperparameter tuning, Batch Normalization and Programming Frameworks</a></div><div class=\"lev2 toc-item\"><a href=\"#Hyperparameter-Tuning\" data-toc-modified-id=\"Hyperparameter-Tuning-11\"><span class=\"toc-item-num\">1.1&nbsp;&nbsp;</span>Hyperparameter Tuning</a></div><div class=\"lev3 toc-item\"><a href=\"#Tuning-Process\" data-toc-modified-id=\"Tuning-Process-111\"><span class=\"toc-item-num\">1.1.1&nbsp;&nbsp;</span>Tuning Process</a></div><div class=\"lev3 toc-item\"><a href=\"#Using-an-appropriate-scale-to-pick-hyperparameters\" data-toc-modified-id=\"Using-an-appropriate-scale-to-pick-hyperparameters-112\"><span class=\"toc-item-num\">1.1.2&nbsp;&nbsp;</span>Using an appropriate scale to pick hyperparameters</a></div><div class=\"lev3 toc-item\"><a href=\"#Hyperparameters-tuning-in-practice:-Pandas-vs.-Caviar\" data-toc-modified-id=\"Hyperparameters-tuning-in-practice:-Pandas-vs.-Caviar-113\"><span class=\"toc-item-num\">1.1.3&nbsp;&nbsp;</span>Hyperparameters tuning in practice: Pandas vs. Caviar</a></div><div class=\"lev2 toc-item\"><a href=\"#Batch-Normalization\" data-toc-modified-id=\"Batch-Normalization-12\"><span class=\"toc-item-num\">1.2&nbsp;&nbsp;</span>Batch Normalization</a></div><div class=\"lev3 toc-item\"><a href=\"#Normalizing-activations-in-a-network\" data-toc-modified-id=\"Normalizing-activations-in-a-network-121\"><span class=\"toc-item-num\">1.2.1&nbsp;&nbsp;</span>Normalizing activations in a network</a></div><div class=\"lev3 toc-item\"><a href=\"#Fitting-Batch-Norm-into-a-neural-network\" data-toc-modified-id=\"Fitting-Batch-Norm-into-a-neural-network-122\"><span class=\"toc-item-num\">1.2.2&nbsp;&nbsp;</span>Fitting Batch Norm into a neural network</a></div><div class=\"lev3 toc-item\"><a href=\"#Why-does-Batch-Norm-work?\" data-toc-modified-id=\"Why-does-Batch-Norm-work?-123\"><span class=\"toc-item-num\">1.2.3&nbsp;&nbsp;</span>Why does Batch Norm work?</a></div><div class=\"lev3 toc-item\"><a href=\"#Batch-Norm-at-test-time\" data-toc-modified-id=\"Batch-Norm-at-test-time-124\"><span class=\"toc-item-num\">1.2.4&nbsp;&nbsp;</span>Batch Norm at test time</a></div><div class=\"lev2 toc-item\"><a href=\"#Multi-class-classificiation\" data-toc-modified-id=\"Multi-class-classificiation-13\"><span class=\"toc-item-num\">1.3&nbsp;&nbsp;</span>Multi-class classificiation</a></div><div class=\"lev3 toc-item\"><a href=\"#Softmax-Regression\" data-toc-modified-id=\"Softmax-Regression-131\"><span class=\"toc-item-num\">1.3.1&nbsp;&nbsp;</span>Softmax Regression</a></div><div class=\"lev3 toc-item\"><a href=\"#Training-a-softmax-classifier\" data-toc-modified-id=\"Training-a-softmax-classifier-132\"><span class=\"toc-item-num\">1.3.2&nbsp;&nbsp;</span>Training a softmax classifier</a></div><div class=\"lev2 toc-item\"><a href=\"#Introduction-to-programming-frameworks\" data-toc-modified-id=\"Introduction-to-programming-frameworks-14\"><span class=\"toc-item-num\">1.4&nbsp;&nbsp;</span>Introduction to programming frameworks</a></div><div class=\"lev3 toc-item\"><a href=\"#Deep-Learning-Frameworks\" data-toc-modified-id=\"Deep-Learning-Frameworks-141\"><span class=\"toc-item-num\">1.4.1&nbsp;&nbsp;</span>Deep Learning Frameworks</a></div><div class=\"lev3 toc-item\"><a href=\"#TensorFlow\" data-toc-modified-id=\"TensorFlow-142\"><span class=\"toc-item-num\">1.4.2&nbsp;&nbsp;</span>TensorFlow</a></div>"
   ]
  },
  {
   "cell_type": "markdown",
   "metadata": {},
   "source": [
    "# Hyperparameter tuning, Batch Normalization and Programming Frameworks"
   ]
  },
  {
   "cell_type": "markdown",
   "metadata": {},
   "source": [
    "## Hyperparameter Tuning"
   ]
  },
  {
   "cell_type": "markdown",
   "metadata": {},
   "source": [
    "### Tuning Process"
   ]
  },
  {
   "cell_type": "markdown",
   "metadata": {},
   "source": [
    "![](https://i.imgur.com/2O0mJ8T.png)\n",
    "![](https://i.imgur.com/lEofSyy.png)\n",
    "![](https://i.imgur.com/7v591Bh.png)"
   ]
  },
  {
   "cell_type": "markdown",
   "metadata": {},
   "source": [
    "### Using an appropriate scale to pick hyperparameters"
   ]
  },
  {
   "cell_type": "markdown",
   "metadata": {},
   "source": [
    "![](https://i.imgur.com/hMkBqQN.png)"
   ]
  },
  {
   "cell_type": "markdown",
   "metadata": {},
   "source": [
    "![](https://i.imgur.com/7WWzABh.png)"
   ]
  },
  {
   "cell_type": "markdown",
   "metadata": {},
   "source": [
    "### Hyperparameters tuning in practice: Pandas vs. Caviar\n"
   ]
  },
  {
   "cell_type": "markdown",
   "metadata": {},
   "source": [
    "![](https://i.imgur.com/gZC1piD.png)"
   ]
  },
  {
   "cell_type": "markdown",
   "metadata": {},
   "source": [
    "## Batch Normalization"
   ]
  },
  {
   "cell_type": "markdown",
   "metadata": {},
   "source": [
    "### Normalizing activations in a network"
   ]
  },
  {
   "cell_type": "markdown",
   "metadata": {},
   "source": [
    "![](https://i.imgur.com/rO2u0HS.png)\n",
    "![](https://i.imgur.com/YH9xVsw.png)"
   ]
  },
  {
   "cell_type": "markdown",
   "metadata": {},
   "source": [
    "### Fitting Batch Norm into a neural network"
   ]
  },
  {
   "cell_type": "markdown",
   "metadata": {},
   "source": [
    "![](https://i.imgur.com/ydulxtV.png)"
   ]
  },
  {
   "cell_type": "markdown",
   "metadata": {},
   "source": [
    "![](https://i.imgur.com/Wg5nU2o.png)"
   ]
  },
  {
   "cell_type": "markdown",
   "metadata": {},
   "source": [
    "![](https://i.imgur.com/Bs9ccPQ.png)"
   ]
  },
  {
   "cell_type": "markdown",
   "metadata": {},
   "source": [
    "### Why does Batch Norm work?"
   ]
  },
  {
   "cell_type": "markdown",
   "metadata": {},
   "source": [
    "![](https://i.imgur.com/BOR7g8y.png)\n",
    "![](https://i.imgur.com/OZRyg65.png)\n",
    "![](https://i.imgur.com/VSx8NnH.png)"
   ]
  },
  {
   "cell_type": "markdown",
   "metadata": {},
   "source": [
    "### Batch Norm at test time"
   ]
  },
  {
   "cell_type": "markdown",
   "metadata": {},
   "source": [
    "![](https://i.imgur.com/ygXa3oQ.png)"
   ]
  },
  {
   "cell_type": "markdown",
   "metadata": {},
   "source": [
    "## Multi-class classificiation"
   ]
  },
  {
   "cell_type": "markdown",
   "metadata": {},
   "source": [
    "### Softmax Regression"
   ]
  },
  {
   "cell_type": "markdown",
   "metadata": {},
   "source": [
    "![](https://i.imgur.com/caXsKOu.png)\n",
    "![](https://i.imgur.com/7FQzzin.png)\n",
    "![](https://i.imgur.com/TJJMNH4.png)"
   ]
  },
  {
   "cell_type": "markdown",
   "metadata": {},
   "source": [
    "### Training a softmax classifier"
   ]
  },
  {
   "cell_type": "markdown",
   "metadata": {},
   "source": [
    "![](https://i.imgur.com/AVGvLhZ.png)\n",
    "![](https://i.imgur.com/B1sXWXh.png)\n",
    "![](https://i.imgur.com/B1sXWXh.png)"
   ]
  },
  {
   "cell_type": "markdown",
   "metadata": {},
   "source": [
    "## Introduction to programming frameworks"
   ]
  },
  {
   "cell_type": "markdown",
   "metadata": {},
   "source": [
    "### Deep Learning Frameworks"
   ]
  },
  {
   "cell_type": "markdown",
   "metadata": {},
   "source": [
    "![](https://i.imgur.com/96m8cmt.png)"
   ]
  },
  {
   "cell_type": "markdown",
   "metadata": {},
   "source": [
    "### TensorFlow"
   ]
  },
  {
   "cell_type": "code",
   "execution_count": 1,
   "metadata": {},
   "outputs": [],
   "source": [
    "import tensorflow as tf\n",
    "import numpy as np"
   ]
  },
  {
   "cell_type": "code",
   "execution_count": 2,
   "metadata": {},
   "outputs": [],
   "source": [
    "w = tf.Variable(0, dtype=tf.float32)\n",
    "cost = tf.add(tf.add(w**2, tf.multiply(-10., w)), 25)"
   ]
  },
  {
   "cell_type": "code",
   "execution_count": 3,
   "metadata": {},
   "outputs": [],
   "source": [
    "train = tf.train.GradientDescentOptimizer(0.01).minimize(cost)"
   ]
  },
  {
   "cell_type": "code",
   "execution_count": 4,
   "metadata": {},
   "outputs": [],
   "source": [
    "init = tf.global_variables_initializer()"
   ]
  },
  {
   "cell_type": "code",
   "execution_count": 5,
   "metadata": {},
   "outputs": [],
   "source": [
    "session = tf.Session()"
   ]
  },
  {
   "cell_type": "code",
   "execution_count": 6,
   "metadata": {},
   "outputs": [
    {
     "name": "stdout",
     "output_type": "stream",
     "text": [
      "CPU times: user 6.07 ms, sys: 2.41 ms, total: 8.48 ms\n",
      "Wall time: 5.82 ms\n"
     ]
    }
   ],
   "source": [
    "%time session.run(init)"
   ]
  },
  {
   "cell_type": "code",
   "execution_count": 7,
   "metadata": {},
   "outputs": [
    {
     "name": "stdout",
     "output_type": "stream",
     "text": [
      "0.0\n"
     ]
    }
   ],
   "source": [
    "print(session.run(w))"
   ]
  },
  {
   "cell_type": "code",
   "execution_count": 8,
   "metadata": {},
   "outputs": [
    {
     "name": "stdout",
     "output_type": "stream",
     "text": [
      "CPU times: user 16.1 ms, sys: 2.34 ms, total: 18.4 ms\n",
      "Wall time: 15.9 ms\n"
     ]
    }
   ],
   "source": [
    "%time session.run(train)"
   ]
  },
  {
   "cell_type": "code",
   "execution_count": 9,
   "metadata": {},
   "outputs": [
    {
     "name": "stdout",
     "output_type": "stream",
     "text": [
      "0.099999994\n",
      "CPU times: user 815 µs, sys: 243 µs, total: 1.06 ms\n",
      "Wall time: 807 µs\n"
     ]
    }
   ],
   "source": [
    "%time print(session.run(w))"
   ]
  },
  {
   "cell_type": "code",
   "execution_count": 10,
   "metadata": {},
   "outputs": [
    {
     "data": {
      "application/json": {
       "Software versions": [
        {
         "module": "Python",
         "version": "3.6.6 64bit [GCC 4.2.1 Compatible Apple LLVM 6.1.0 (clang-602.0.53)]"
        },
        {
         "module": "IPython",
         "version": "7.0.1"
        },
        {
         "module": "OS",
         "version": "Darwin 17.7.0 x86_64 i386 64bit"
        },
        {
         "module": "tensorflow",
         "version": "1.10.0"
        },
        {
         "module": "numpy",
         "version": "1.15.1"
        }
       ]
      },
      "text/html": [
       "<table><tr><th>Software</th><th>Version</th></tr><tr><td>Python</td><td>3.6.6 64bit [GCC 4.2.1 Compatible Apple LLVM 6.1.0 (clang-602.0.53)]</td></tr><tr><td>IPython</td><td>7.0.1</td></tr><tr><td>OS</td><td>Darwin 17.7.0 x86_64 i386 64bit</td></tr><tr><td>tensorflow</td><td>1.10.0</td></tr><tr><td>numpy</td><td>1.15.1</td></tr><tr><td colspan='2'>Sun Oct 14 21:48:53 2018 MDT</td></tr></table>"
      ],
      "text/latex": [
       "\\begin{tabular}{|l|l|}\\hline\n",
       "{\\bf Software} & {\\bf Version} \\\\ \\hline\\hline\n",
       "Python & 3.6.6 64bit [GCC 4.2.1 Compatible Apple LLVM 6.1.0 (clang-602.0.53)] \\\\ \\hline\n",
       "IPython & 7.0.1 \\\\ \\hline\n",
       "OS & Darwin 17.7.0 x86\\_64 i386 64bit \\\\ \\hline\n",
       "tensorflow & 1.10.0 \\\\ \\hline\n",
       "numpy & 1.15.1 \\\\ \\hline\n",
       "\\hline \\multicolumn{2}{|l|}{Sun Oct 14 21:48:53 2018 MDT} \\\\ \\hline\n",
       "\\end{tabular}\n"
      ],
      "text/plain": [
       "Software versions\n",
       "Python 3.6.6 64bit [GCC 4.2.1 Compatible Apple LLVM 6.1.0 (clang-602.0.53)]\n",
       "IPython 7.0.1\n",
       "OS Darwin 17.7.0 x86_64 i386 64bit\n",
       "tensorflow 1.10.0\n",
       "numpy 1.15.1\n",
       "Sun Oct 14 21:48:53 2018 MDT"
      ]
     },
     "execution_count": 10,
     "metadata": {},
     "output_type": "execute_result"
    }
   ],
   "source": [
    "%load_ext version_information\n",
    "%version_information tensorflow, numpy"
   ]
  }
 ],
 "metadata": {
  "kernelspec": {
   "display_name": "Python [default]",
   "language": "python",
   "name": "python3"
  },
  "language_info": {
   "codemirror_mode": {
    "name": "ipython",
    "version": 3
   },
   "file_extension": ".py",
   "mimetype": "text/x-python",
   "name": "python",
   "nbconvert_exporter": "python",
   "pygments_lexer": "ipython3",
   "version": "3.6.6"
  },
  "toc": {
   "colors": {
    "hover_highlight": "#DAA520",
    "navigate_num": "#000000",
    "navigate_text": "#333333",
    "running_highlight": "#FF0000",
    "selected_highlight": "#FFD700",
    "sidebar_border": "#EEEEEE",
    "wrapper_background": "#FFFFFF"
   },
   "moveMenuLeft": true,
   "nav_menu": {
    "height": "315px",
    "width": "252px"
   },
   "navigate_menu": true,
   "number_sections": true,
   "sideBar": true,
   "threshold": 4,
   "toc_cell": true,
   "toc_section_display": "block",
   "toc_window_display": true,
   "widenNotebook": false
  }
 },
 "nbformat": 4,
 "nbformat_minor": 2
}
